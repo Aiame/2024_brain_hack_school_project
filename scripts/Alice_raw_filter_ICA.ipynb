{
 "cells": [
  {
   "cell_type": "code",
   "execution_count": null,
   "id": "fd8e7eb1-71db-4ee1-bfb8-e6d53b5311a7",
   "metadata": {},
   "outputs": [],
   "source": [
    "import mne\n",
    "import numpy as np\n",
    "import matplotlib.pyplot as plt\n",
    "\n",
    "from mne.preprocessing import (ICA, create_eog_epochs, create_ecg_epochs,\n",
    "                               corrmap)"
   ]
  },
  {
   "cell_type": "code",
   "execution_count": null,
   "id": "63ed2f48-7d09-48c2-bc27-1aaa71d0f61c",
   "metadata": {},
   "outputs": [],
   "source": [
    "path = 'C:/Users/Hello/Alice-main/Alice_dataset/eeg'"
   ]
  },
  {
   "cell_type": "code",
   "execution_count": null,
   "id": "e4e83f63-bd93-49d4-9e66-8a184fdf2be4",
   "metadata": {},
   "outputs": [],
   "source": [
    "subject_no = 'S13'\n",
    "\n",
    "raw_data = path + '/' + subject_no + '/' + '%s_alice-raw.fif'%subject_no\n",
    "save_path = path + '/' + subject_no + '/'"
   ]
  },
  {
   "cell_type": "code",
   "execution_count": null,
   "id": "68ae8fb4-3174-4832-83a1-423ff29d229d",
   "metadata": {},
   "outputs": [],
   "source": [
    "# read and load raw data\n",
    "raw = mne.io.read_raw_fif(raw_data)\n",
    "raw.load_data()"
   ]
  },
  {
   "cell_type": "code",
   "execution_count": null,
   "id": "dc2ae90b-9632-4fde-912f-da6fb55dfd67",
   "metadata": {},
   "outputs": [],
   "source": [
    "# filter and Interpolate bad channels\n",
    "raw.filter(0.5, 20)\n",
    "raw.interpolate_bads()"
   ]
  },
  {
   "cell_type": "code",
   "execution_count": null,
   "id": "8c05d03f-546d-46d2-a5c8-b6122648c621",
   "metadata": {},
   "outputs": [],
   "source": [
    "#ICA and remove the alpha band\n",
    "ica = ICA(n_components=15, max_iter=\"auto\", random_state=97)\n",
    "ica.fit(raw)"
   ]
  },
  {
   "cell_type": "code",
   "execution_count": null,
   "id": "f9d6af14-953c-49b4-8725-5f0be10d1ebf",
   "metadata": {},
   "outputs": [],
   "source": [
    "explained_var_ratio = [ica.get_explained_variance_ratio(\n",
    "    raw, components=[i], ch_type=\"eeg\") for i in range(15)]\n",
    "\n",
    "print(explained_var_ratio)"
   ]
  },
  {
   "cell_type": "code",
   "execution_count": null,
   "id": "1d6cda22-e6df-4c14-9d08-92a6c8e4b183",
   "metadata": {},
   "outputs": [],
   "source": [
    "ica.plot_components()"
   ]
  },
  {
   "cell_type": "code",
   "execution_count": null,
   "id": "b3210a81-834c-452b-bcec-418e39717f1b",
   "metadata": {},
   "outputs": [],
   "source": [
    "ica.plot_properties(raw, picks=[4, 8, 14])"
   ]
  },
  {
   "cell_type": "code",
   "execution_count": null,
   "id": "dbb2ce70-d145-44b6-aba5-d13333324d89",
   "metadata": {},
   "outputs": [],
   "source": [
    "ica.exclude = [4]\n",
    "reconst_raw = raw.copy()\n",
    "ica.apply(reconst_raw)\n",
    "\n",
    "reconst_raw.save(path + '/' + subject_no + '/remove_alpha-raw.fif') "
   ]
  }
 ],
 "metadata": {
  "kernelspec": {
   "display_name": "Python 3 (ipykernel)",
   "language": "python",
   "name": "python3"
  },
  "language_info": {
   "codemirror_mode": {
    "name": "ipython",
    "version": 3
   },
   "file_extension": ".py",
   "mimetype": "text/x-python",
   "name": "python",
   "nbconvert_exporter": "python",
   "pygments_lexer": "ipython3",
   "version": "3.11.7"
  }
 },
 "nbformat": 4,
 "nbformat_minor": 5
}
